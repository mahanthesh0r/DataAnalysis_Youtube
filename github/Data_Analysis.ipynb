{
 "cells": [
  {
   "cell_type": "markdown",
   "metadata": {},
   "source": [
    "# Data Analysis on Youtube Trending Videos Dataset"
   ]
  },
  {
   "cell_type": "code",
   "execution_count": 32,
   "metadata": {},
   "outputs": [
    {
     "name": "stderr",
     "output_type": "stream",
     "text": [
      "b'Skipping line 2401: expected 11 fields, saw 21\\nSkipping line 2800: expected 11 fields, saw 21\\nSkipping line 5297: expected 11 fields, saw 12\\nSkipping line 5299: expected 11 fields, saw 12\\nSkipping line 5300: expected 11 fields, saw 12\\nSkipping line 5301: expected 11 fields, saw 12\\n'\n"
     ]
    }
   ],
   "source": [
    "#importing packages\n",
    "import pandas as pd\n",
    "import numpy as np\n",
    "import matplotlib.pyplot as plt\n",
    "import seaborn as sns\n",
    "import json\n",
    "import pymongo\n",
    "import csv\n",
    "import ipywidgets as widgets\n",
    "from IPython.display import display\n",
    "from ipywidgets import interact, interactive, fixed, interact_manual\n",
    "\n",
    "#setting up MongoDB\n",
    "myclient = pymongo.MongoClient(\"mongodb://localhost:27017/\")\n",
    "mydb = myclient[\"youtubeDataset\"] #youtubeDataset is the database\n",
    "mycol = mydb[\"videos\"] #videos is the collection\n",
    "\n",
    "#import the csv and add it to the database\n",
    "df_videos = pd.read_csv('USvideos.csv', error_bad_lines=False)\n",
    "df_videos_json = json.loads(df_videos.to_json(orient='records'))"
   ]
  },
  {
   "cell_type": "markdown",
   "metadata": {},
   "source": [
    "# View Top 10 Channels based on the Tags and Views"
   ]
  },
  {
   "cell_type": "code",
   "execution_count": 16,
   "metadata": {},
   "outputs": [
    {
     "data": {
      "application/vnd.jupyter.widget-view+json": {
       "model_id": "4d65e528ffb749bf9a0f686584af1d64",
       "version_major": 2,
       "version_minor": 0
      },
      "text/plain": [
       "Label(value='Enter the Tags')"
      ]
     },
     "metadata": {},
     "output_type": "display_data"
    },
    {
     "data": {
      "application/vnd.jupyter.widget-view+json": {
       "model_id": "68917b03ab674c1b920e0904afdb1f7f",
       "version_major": 2,
       "version_minor": 0
      },
      "text/plain": [
       "Text(value='iPhone')"
      ]
     },
     "metadata": {},
     "output_type": "display_data"
    },
    {
     "data": {
      "application/vnd.jupyter.widget-view+json": {
       "model_id": "add699f114b645a6b1a17102e05b9f16",
       "version_major": 2,
       "version_minor": 0
      },
      "text/plain": [
       "Button(description='show', style=ButtonStyle())"
      ]
     },
     "metadata": {},
     "output_type": "display_data"
    },
    {
     "data": {
      "application/vnd.jupyter.widget-view+json": {
       "model_id": "e45930560619440b999a01209dc7c2c8",
       "version_major": 2,
       "version_minor": 0
      },
      "text/plain": [
       "Button(description='add to the Collection', style=ButtonStyle())"
      ]
     },
     "metadata": {},
     "output_type": "display_data"
    },
    {
     "data": {
      "image/png": "[encoded data removed]",
      "text/plain": [
       "<Figure size 432x288 with 1 Axes>"
      ]
     },
     "metadata": {
      "needs_background": "light"
     },
     "output_type": "display_data"
    },
    {
     "name": "stdout",
     "output_type": "stream",
     "text": [
      "{'_id': ObjectId('5ddd74aee51c5e2b7e599325'), 'video_id': 'K4wEI5zhHB0', 'title': 'iPhone X — Introducing iPhone X — Apple', 'channel_title': 'Apple', 'category_id': 28, 'tags': 'Apple|iPhone 10|iPhone Ten|iPhone|Portrait Lighting|A11 Bionic|augmented reality|emoji|animoji|Face ID|Apple Pay|camera|smartphone', 'views': 19707391, 'likes': 381919, 'dislikes': 69465, 'comment_total': 0, 'thumbnail_link': 'https://i.ytimg.com/vi/K4wEI5zhHB0/default.jpg', 'date': 17.09}\n"
     ]
    },
    {
     "name": "stderr",
     "output_type": "stream",
     "text": [
      "/anaconda3/lib/python3.7/site-packages/ipykernel_launcher.py:21: DeprecationWarning: insert is deprecated. Use insert_one or insert_many instead.\n"
     ]
    }
   ],
   "source": [
    "Label_1 = widgets.Label('Enter the Tags')\n",
    "display(Label_1)\n",
    "Text_tags = widgets.Text(value='iPhone', disabled=False)\n",
    "display(Text_tags)\n",
    "btn = widgets.Button(description=\"show\")\n",
    "display(btn)\n",
    "btn2 = widgets.Button(description=\"add to the Collection\")\n",
    "display(btn2)\n",
    "mycol_1 = mydb[\"top_views\"]\n",
    "def show(b):\n",
    "    tags = str(Text_tags.value)\n",
    "    show.df_videos_top = df_videos[df_videos['tags'].str.contains(tags)].sort_values(by='views', ascending=False).head(10)\n",
    "    ax = show.df_videos_top.plot(kind='bar',x='channel_title',y='views',title='Top10 channels')\n",
    "    ax.set_xlabel('Channel Title')\n",
    "    ax.set_ylabel('Views(in m)')\n",
    "def add_col(b):\n",
    "    ymax = max(show.df_videos_top.views)\n",
    "    top_views = df_videos[df_videos.views == ymax]\n",
    "    top_views_json = json.loads(top_views.to_json(orient='records'))\n",
    "    \n",
    "    mycol_1.insert(top_views_json)\n",
    "    xx = mycol_1.find_one()\n",
    "    print(xx)\n",
    "btn.on_click(show)\n",
    "btn2.on_click(add_col)\n"
   ]
  },
  {
   "cell_type": "markdown",
   "metadata": {},
   "source": [
    "# Clearing the Database collection for views"
   ]
  },
  {
   "cell_type": "code",
   "execution_count": 17,
   "metadata": {},
   "outputs": [
    {
     "name": "stdout",
     "output_type": "stream",
     "text": [
      "15  documents deleted.\n"
     ]
    }
   ],
   "source": [
    "v = mycol_1.delete_many({})\n",
    "print(v.deleted_count, \" documents deleted.\")"
   ]
  },
  {
   "cell_type": "markdown",
   "metadata": {},
   "source": [
    "# Top 10 Channels based on Likes/Dislikes"
   ]
  },
  {
   "cell_type": "code",
   "execution_count": 21,
   "metadata": {},
   "outputs": [
    {
     "data": {
      "application/vnd.jupyter.widget-view+json": {
       "model_id": "f76119c247c14b16a0830c0c34c82ffc",
       "version_major": 2,
       "version_minor": 0
      },
      "text/plain": [
       "Label(value='Enter the Tags')"
      ]
     },
     "metadata": {},
     "output_type": "display_data"
    },
    {
     "data": {
      "application/vnd.jupyter.widget-view+json": {
       "model_id": "f0fa7374484e4e22905df533e6af3878",
       "version_major": 2,
       "version_minor": 0
      },
      "text/plain": [
       "Text(value='iPhone')"
      ]
     },
     "metadata": {},
     "output_type": "display_data"
    },
    {
     "data": {
      "application/vnd.jupyter.widget-view+json": {
       "model_id": "13e8e2af7dc142c08c42359e798dba1c",
       "version_major": 2,
       "version_minor": 0
      },
      "text/plain": [
       "Button(description='show', style=ButtonStyle())"
      ]
     },
     "metadata": {},
     "output_type": "display_data"
    },
    {
     "data": {
      "application/vnd.jupyter.widget-view+json": {
       "model_id": "909399cdebbc4339a002c876e4e17ac6",
       "version_major": 2,
       "version_minor": 0
      },
      "text/plain": [
       "Button(description='add to the Collection', style=ButtonStyle())"
      ]
     },
     "metadata": {},
     "output_type": "display_data"
    },
    {
     "data": {
      "image/png": "[encoded data removed]",
      "text/plain": [
       "<Figure size 432x288 with 1 Axes>"
      ]
     },
     "metadata": {
      "needs_background": "light"
     },
     "output_type": "display_data"
    },
    {
     "name": "stdout",
     "output_type": "stream",
     "text": [
      "{'_id': ObjectId('5dde31bfe51c5e2b7e59932a'), 'video_id': 'K4wEI5zhHB0', 'title': 'iPhone X — Introducing iPhone X — Apple', 'channel_title': 'Apple', 'category_id': 28, 'tags': 'Apple|iPhone 10|iPhone Ten|iPhone|Portrait Lighting|A11 Bionic|augmented reality|emoji|animoji|Face ID|Apple Pay|camera|smartphone', 'views': 19707391, 'likes': 381919, 'dislikes': 69465, 'comment_total': 0, 'thumbnail_link': 'https://i.ytimg.com/vi/K4wEI5zhHB0/default.jpg', 'date': 17.09}\n"
     ]
    },
    {
     "name": "stderr",
     "output_type": "stream",
     "text": [
      "/anaconda3/lib/python3.7/site-packages/ipykernel_launcher.py:29: DeprecationWarning: insert is deprecated. Use insert_one or insert_many instead.\n",
      "/anaconda3/lib/python3.7/site-packages/ipykernel_launcher.py:32: DeprecationWarning: insert is deprecated. Use insert_one or insert_many instead.\n"
     ]
    }
   ],
   "source": [
    "Label_1 = widgets.Label('Enter the Tags')\n",
    "display(Label_1)\n",
    "Text_likes = widgets.Text(value='iPhone', disabled=False)\n",
    "display(Text_likes)\n",
    "btn_likes = widgets.Button(description=\"show\")\n",
    "display(btn_likes)\n",
    "btn2_likes = widgets.Button(description=\"add to the Collection\")\n",
    "display(btn2_likes)\n",
    "\n",
    "\n",
    "\n",
    "def show_likes_dis(b):\n",
    "    show_likes_dis.text_likes = str(Text_likes.value)\n",
    "    show_likes_dis.df_videos_top1 = df_videos[df_videos['tags'].str.contains(show_likes_dis.text_likes)].sort_values(by='likes', ascending=False).head(10)\n",
    "    ax = plt.gca() \n",
    "    show_likes_dis.df_videos_top1.plot(kind='bar',x='channel_title',y='likes',title='Top10 channels',ax=ax)\n",
    "    show_likes_dis.df_videos_top1.plot(kind='bar',x='channel_title',y='dislikes',color='red',title='Top10 channels',ax=ax)\n",
    "    ax.set_xlabel('Channel Title')\n",
    "    ax.set_ylabel('Likes/Dislikes')\n",
    "    \n",
    "def store_likes_dis(b):\n",
    "    ymax1 = max(show_likes_dis.df_videos_top1.likes)\n",
    "    ymin1 = max(show_likes_dis.df_videos_top1.dislikes)\n",
    "    top_likes = df_videos[df_videos.likes == ymax1]\n",
    "    top_dislikes = df_videos[df_videos.dislikes == ymin1]\n",
    "    top_likes_json = json.loads(top_likes.to_json(orient='records'))\n",
    "    top_dislikes_json = json.loads(top_dislikes.to_json(orient='records'))\n",
    "    mycol_3 = mydb[\"TopLikes\"]\n",
    "    mycol_3.insert(top_likes_json)\n",
    "    #collection for top dislikes \n",
    "    mycol_2 = mydb[\"TopDislikes\"]\n",
    "    mycol_2.insert(top_dislikes_json)  \n",
    "    topdislikes = mycol_2.find_one()\n",
    "    print(topdislikes)\n",
    "btn_likes.on_click(show_likes_dis)\n",
    "btn2_likes.on_click(store_likes_dis)"
   ]
  },
  {
   "cell_type": "markdown",
   "metadata": {},
   "source": [
    "# Relation between the category id and how many videos getting uploaded on that category."
   ]
  },
  {
   "cell_type": "code",
   "execution_count": 22,
   "metadata": {},
   "outputs": [
    {
     "data": {
      "text/plain": [
       "Text(0, 0.5, 'Count')"
      ]
     },
     "execution_count": 22,
     "metadata": {},
     "output_type": "execute_result"
    },
    {
     "data": {
      "image/png": "[encoded data removed]",
      "text/plain": [
       "<Figure size 720x360 with 1 Axes>"
      ]
     },
     "metadata": {
      "needs_background": "light"
     },
     "output_type": "display_data"
    }
   ],
   "source": [
    "cat_id_mapping = {2:'Autos & Vehicles',1:'Film & Animation',\n",
    "                  10:'Music',15:'Pets & Animals',17:'Sports',\n",
    "                 19:'Travel & Events',20:'Gaming',22:'People & Blogs',\n",
    "                 23:'Comedy',24:'Entertainment',25:'News & Politics',\n",
    "                 26:'Howto & Style',27:'Education',28:'Science & Technology',\n",
    "                  29:'Nonprofits & Activism',43:'Shows'}\n",
    "df_videos_gb = df_videos.groupby('category_id').count()['title']\n",
    "df_videos_gb = df_videos_gb.rename(cat_id_mapping)\n",
    "ax = df_videos_gb.plot(kind='bar',title='Video Categories by their Count',color='orange',figsize=(10,5))\n",
    "ax.set_xlabel('Category')\n",
    "ax.set_ylabel('Count')"
   ]
  },
  {
   "cell_type": "markdown",
   "metadata": {},
   "source": [
    "# Graph Showing the trending video like & dislike relation to their views & commen."
   ]
  },
  {
   "cell_type": "code",
   "execution_count": 23,
   "metadata": {},
   "outputs": [
    {
     "name": "stderr",
     "output_type": "stream",
     "text": [
      "/anaconda3/lib/python3.7/site-packages/seaborn/axisgrid.py:2065: UserWarning: The `size` parameter has been renamed to `height`; pleaes update your code.\n",
      "  warnings.warn(msg, UserWarning)\n"
     ]
    },
    {
     "data": {
      "text/plain": [
       "<seaborn.axisgrid.PairGrid at 0x11101c310>"
      ]
     },
     "execution_count": 23,
     "metadata": {},
     "output_type": "execute_result"
    },
    {
     "data": {
      "image/png": "[encoded data removed]",
      "text/plain": [
       "<Figure size 720x720 with 4 Axes>"
      ]
     },
     "metadata": {
      "needs_background": "light"
     },
     "output_type": "display_data"
    }
   ],
   "source": [
    "sns.pairplot(df_videos,x_vars=['comment_total','views'],y_vars=['likes','dislikes'],size=5)"
   ]
  },
  {
   "cell_type": "markdown",
   "metadata": {},
   "source": [
    "# Relation between likes and views"
   ]
  },
  {
   "cell_type": "code",
   "execution_count": 24,
   "metadata": {},
   "outputs": [
    {
     "data": {
      "text/plain": [
       "<seaborn.axisgrid.JointGrid at 0x11101c1d0>"
      ]
     },
     "execution_count": 24,
     "metadata": {},
     "output_type": "execute_result"
    },
    {
     "data": {
      "image/png": "[encoded data removed]",
      "text/plain": [
       "<Figure size 432x432 with 3 Axes>"
      ]
     },
     "metadata": {
      "needs_background": "light"
     },
     "output_type": "display_data"
    }
   ],
   "source": [
    "sns.jointplot(x='views',y='likes',data=df_videos,kind='reg')"
   ]
  },
  {
   "cell_type": "markdown",
   "metadata": {},
   "source": [
    "# Sentiment Analysis on Youtube Comments"
   ]
  },
  {
   "cell_type": "code",
   "execution_count": 25,
   "metadata": {},
   "outputs": [
    {
     "name": "stderr",
     "output_type": "stream",
     "text": [
      "b'Skipping line 41589: expected 4 fields, saw 11\\nSkipping line 51628: expected 4 fields, saw 7\\nSkipping line 114465: expected 4 fields, saw 5\\n'\n",
      "b'Skipping line 142496: expected 4 fields, saw 8\\nSkipping line 189732: expected 4 fields, saw 6\\nSkipping line 245218: expected 4 fields, saw 7\\n'\n",
      "b'Skipping line 388430: expected 4 fields, saw 5\\n'\n"
     ]
    },
    {
     "data": {
      "text/html": [
       "<div>\n",
       "<style scoped>\n",
       "    .dataframe tbody tr th:only-of-type {\n",
       "        vertical-align: middle;\n",
       "    }\n",
       "\n",
       "    .dataframe tbody tr th {\n",
       "        vertical-align: top;\n",
       "    }\n",
       "\n",
       "    .dataframe thead th {\n",
       "        text-align: right;\n",
       "    }\n",
       "</style>\n",
       "<table border=\"1\" class=\"dataframe\">\n",
       "  <thead>\n",
       "    <tr style=\"text-align: right;\">\n",
       "      <th></th>\n",
       "      <th>video_id</th>\n",
       "      <th>comment_text</th>\n",
       "      <th>likes</th>\n",
       "      <th>replies</th>\n",
       "      <th>pol</th>\n",
       "    </tr>\n",
       "  </thead>\n",
       "  <tbody>\n",
       "    <tr>\n",
       "      <td>541992</td>\n",
       "      <td>uCVuyIQZ-lA</td>\n",
       "      <td>i just love you</td>\n",
       "      <td>0</td>\n",
       "      <td>0</td>\n",
       "      <td>1.0</td>\n",
       "    </tr>\n",
       "    <tr>\n",
       "      <td>294789</td>\n",
       "      <td>aepr6ynzeX4</td>\n",
       "      <td>Omg I love it!!!!!!!! 😍</td>\n",
       "      <td>0</td>\n",
       "      <td>0</td>\n",
       "      <td>1.0</td>\n",
       "    </tr>\n",
       "    <tr>\n",
       "      <td>289611</td>\n",
       "      <td>o0Ddl1DI-go</td>\n",
       "      <td>Omgggggg I've been waiting for a natural hair ...</td>\n",
       "      <td>0</td>\n",
       "      <td>0</td>\n",
       "      <td>1.0</td>\n",
       "    </tr>\n",
       "    <tr>\n",
       "      <td>615758</td>\n",
       "      <td>aysB58GG3uM</td>\n",
       "      <td>Am I the only one who absolutely loves the out...</td>\n",
       "      <td>0</td>\n",
       "      <td>0</td>\n",
       "      <td>1.0</td>\n",
       "    </tr>\n",
       "    <tr>\n",
       "      <td>369067</td>\n",
       "      <td>NCFO5eifDtg</td>\n",
       "      <td>Loving all these collabs you've been doing Sea...</td>\n",
       "      <td>0</td>\n",
       "      <td>0</td>\n",
       "      <td>1.0</td>\n",
       "    </tr>\n",
       "    <tr>\n",
       "      <td>650868</td>\n",
       "      <td>CN4YL1KPDAA</td>\n",
       "      <td>Badminton! &lt;3</td>\n",
       "      <td>0</td>\n",
       "      <td>0</td>\n",
       "      <td>1.0</td>\n",
       "    </tr>\n",
       "    <tr>\n",
       "      <td>447075</td>\n",
       "      <td>RyCDmg1JXcQ</td>\n",
       "      <td>My god this looks beautiful. I have the game o...</td>\n",
       "      <td>2</td>\n",
       "      <td>0</td>\n",
       "      <td>1.0</td>\n",
       "    </tr>\n",
       "    <tr>\n",
       "      <td>463389</td>\n",
       "      <td>pfQ09sKITss</td>\n",
       "      <td>Kim you do look like that... just embrace the ...</td>\n",
       "      <td>0</td>\n",
       "      <td>0</td>\n",
       "      <td>1.0</td>\n",
       "    </tr>\n",
       "    <tr>\n",
       "      <td>340408</td>\n",
       "      <td>GWKI-CoCCTU</td>\n",
       "      <td>Looking fit Nile mate, best of luck!</td>\n",
       "      <td>0</td>\n",
       "      <td>0</td>\n",
       "      <td>1.0</td>\n",
       "    </tr>\n",
       "    <tr>\n",
       "      <td>687991</td>\n",
       "      <td>O12Rt0JSDpA</td>\n",
       "      <td>You are the best! ♡</td>\n",
       "      <td>0</td>\n",
       "      <td>0</td>\n",
       "      <td>1.0</td>\n",
       "    </tr>\n",
       "  </tbody>\n",
       "</table>\n",
       "</div>"
      ],
      "text/plain": [
       "           video_id                                       comment_text likes  \\\n",
       "541992  uCVuyIQZ-lA                                    i just love you     0   \n",
       "294789  aepr6ynzeX4                            Omg I love it!!!!!!!! 😍     0   \n",
       "289611  o0Ddl1DI-go  Omgggggg I've been waiting for a natural hair ...     0   \n",
       "615758  aysB58GG3uM  Am I the only one who absolutely loves the out...     0   \n",
       "369067  NCFO5eifDtg  Loving all these collabs you've been doing Sea...     0   \n",
       "650868  CN4YL1KPDAA                                      Badminton! <3     0   \n",
       "447075  RyCDmg1JXcQ  My god this looks beautiful. I have the game o...     2   \n",
       "463389  pfQ09sKITss  Kim you do look like that... just embrace the ...     0   \n",
       "340408  GWKI-CoCCTU               Looking fit Nile mate, best of luck!     0   \n",
       "687991  O12Rt0JSDpA                                You are the best! ♡     0   \n",
       "\n",
       "       replies  pol  \n",
       "541992       0  1.0  \n",
       "294789       0  1.0  \n",
       "289611       0  1.0  \n",
       "615758       0  1.0  \n",
       "369067       0  1.0  \n",
       "650868       0  1.0  \n",
       "447075       0  1.0  \n",
       "463389       0  1.0  \n",
       "340408       0  1.0  \n",
       "687991       0  1.0  "
      ]
     },
     "execution_count": 25,
     "metadata": {},
     "output_type": "execute_result"
    }
   ],
   "source": [
    "from textblob import TextBlob\n",
    "import warnings\n",
    "warnings.filterwarnings(\"ignore\")\n",
    "comm = pd.read_csv('UScomments.csv',encoding='utf8', error_bad_lines=False)\n",
    "comm.head()\n",
    "data = comm.sample(2000)\n",
    "data.shape\n",
    "#Calculating the Sentiment Polarity\n",
    "pol=[] # list which will contain the polarity of the comments\n",
    "for i in data.comment_text.values:\n",
    "    try:\n",
    "        analysis =TextBlob(i)\n",
    "        pol.append(analysis.sentiment.polarity)\n",
    "        \n",
    "    except:\n",
    "        pol.append(0)\n",
    "#Adding the Sentiment Polarity column to the data\n",
    "data['pol']=pol\n",
    "#Converting the polarity values from continuous to categorical\n",
    "data['pol'][data.pol==0]= 0\n",
    "data['pol'][data.pol > 0]= 1\n",
    "data['pol'][data.pol < 0]= -1\n",
    "#Displaying the POSITIVE comments\n",
    "df_positive = data[data.pol==1]\n",
    "df_positive.head(10)\n",
    "#Adding the Sentiment Polarity column to the data\n",
    "data['pol']=pol\n",
    "#Converting the polarity values from continuous to categorical\n",
    "data['pol'][data.pol==0]= 0\n",
    "data['pol'][data.pol > 0]= 1\n",
    "data['pol'][data.pol < 0]= -1\n",
    "#Displaying the POSITIVE comments\n",
    "df_positive = data[data.pol==1]\n",
    "df_positive.head(10)"
   ]
  },
  {
   "cell_type": "markdown",
   "metadata": {},
   "source": [
    "# Displaying Negative Comments"
   ]
  },
  {
   "cell_type": "code",
   "execution_count": 26,
   "metadata": {},
   "outputs": [
    {
     "data": {
      "text/html": [
       "<div>\n",
       "<style scoped>\n",
       "    .dataframe tbody tr th:only-of-type {\n",
       "        vertical-align: middle;\n",
       "    }\n",
       "\n",
       "    .dataframe tbody tr th {\n",
       "        vertical-align: top;\n",
       "    }\n",
       "\n",
       "    .dataframe thead th {\n",
       "        text-align: right;\n",
       "    }\n",
       "</style>\n",
       "<table border=\"1\" class=\"dataframe\">\n",
       "  <thead>\n",
       "    <tr style=\"text-align: right;\">\n",
       "      <th></th>\n",
       "      <th>video_id</th>\n",
       "      <th>comment_text</th>\n",
       "      <th>likes</th>\n",
       "      <th>replies</th>\n",
       "      <th>pol</th>\n",
       "    </tr>\n",
       "  </thead>\n",
       "  <tbody>\n",
       "    <tr>\n",
       "      <td>444860</td>\n",
       "      <td>eoAEp5A-arY</td>\n",
       "      <td>Did anyone else besides me  scroll through the...</td>\n",
       "      <td>17</td>\n",
       "      <td>2</td>\n",
       "      <td>-1.0</td>\n",
       "    </tr>\n",
       "    <tr>\n",
       "      <td>524552</td>\n",
       "      <td>6u9LNN9HwC4</td>\n",
       "      <td>Looks shit. Why would Luke Skywalker be scared...</td>\n",
       "      <td>0</td>\n",
       "      <td>0</td>\n",
       "      <td>-1.0</td>\n",
       "    </tr>\n",
       "    <tr>\n",
       "      <td>102437</td>\n",
       "      <td>FfRGxN2zeWU</td>\n",
       "      <td>I have never had such long goosebumps for like...</td>\n",
       "      <td>0</td>\n",
       "      <td>0</td>\n",
       "      <td>-1.0</td>\n",
       "    </tr>\n",
       "    <tr>\n",
       "      <td>123385</td>\n",
       "      <td>N_zDcuX1Y54</td>\n",
       "      <td>Late sis</td>\n",
       "      <td>0</td>\n",
       "      <td>0</td>\n",
       "      <td>-1.0</td>\n",
       "    </tr>\n",
       "    <tr>\n",
       "      <td>608497</td>\n",
       "      <td>HYWiIWpcCIM</td>\n",
       "      <td>life is predetermined? i randomly decide to ge...</td>\n",
       "      <td>0</td>\n",
       "      <td>0</td>\n",
       "      <td>-1.0</td>\n",
       "    </tr>\n",
       "    <tr>\n",
       "      <td>135430</td>\n",
       "      <td>XvPWUkHjWG0</td>\n",
       "      <td>Video ideas...  \\n1: Sky zone with liza\\n2: Dr...</td>\n",
       "      <td>0</td>\n",
       "      <td>0</td>\n",
       "      <td>-1.0</td>\n",
       "    </tr>\n",
       "    <tr>\n",
       "      <td>632091</td>\n",
       "      <td>hkA2a4_tNOs</td>\n",
       "      <td>This is completely random and sort of embarras...</td>\n",
       "      <td>0</td>\n",
       "      <td>0</td>\n",
       "      <td>-1.0</td>\n",
       "    </tr>\n",
       "    <tr>\n",
       "      <td>588204</td>\n",
       "      <td>Hlt3rA-oDao</td>\n",
       "      <td>At least the hillary joke was spot on</td>\n",
       "      <td>0</td>\n",
       "      <td>0</td>\n",
       "      <td>-1.0</td>\n",
       "    </tr>\n",
       "    <tr>\n",
       "      <td>6803</td>\n",
       "      <td>ah8SQNOXgrQ</td>\n",
       "      <td>You should stick to comedy sketches. Documenta...</td>\n",
       "      <td>0</td>\n",
       "      <td>0</td>\n",
       "      <td>-1.0</td>\n",
       "    </tr>\n",
       "    <tr>\n",
       "      <td>645188</td>\n",
       "      <td>miNpG98Hv1w</td>\n",
       "      <td>This reminds me how ugly I look</td>\n",
       "      <td>20</td>\n",
       "      <td>1</td>\n",
       "      <td>-1.0</td>\n",
       "    </tr>\n",
       "  </tbody>\n",
       "</table>\n",
       "</div>"
      ],
      "text/plain": [
       "           video_id                                       comment_text likes  \\\n",
       "444860  eoAEp5A-arY  Did anyone else besides me  scroll through the...    17   \n",
       "524552  6u9LNN9HwC4  Looks shit. Why would Luke Skywalker be scared...     0   \n",
       "102437  FfRGxN2zeWU  I have never had such long goosebumps for like...     0   \n",
       "123385  N_zDcuX1Y54                                           Late sis     0   \n",
       "608497  HYWiIWpcCIM  life is predetermined? i randomly decide to ge...     0   \n",
       "135430  XvPWUkHjWG0  Video ideas...  \\n1: Sky zone with liza\\n2: Dr...     0   \n",
       "632091  hkA2a4_tNOs  This is completely random and sort of embarras...     0   \n",
       "588204  Hlt3rA-oDao              At least the hillary joke was spot on     0   \n",
       "6803    ah8SQNOXgrQ  You should stick to comedy sketches. Documenta...     0   \n",
       "645188  miNpG98Hv1w                    This reminds me how ugly I look    20   \n",
       "\n",
       "       replies  pol  \n",
       "444860       2 -1.0  \n",
       "524552       0 -1.0  \n",
       "102437       0 -1.0  \n",
       "123385       0 -1.0  \n",
       "608497       0 -1.0  \n",
       "135430       0 -1.0  \n",
       "632091       0 -1.0  \n",
       "588204       0 -1.0  \n",
       "6803         0 -1.0  \n",
       "645188       1 -1.0  "
      ]
     },
     "execution_count": 26,
     "metadata": {},
     "output_type": "execute_result"
    }
   ],
   "source": [
    "#Displaying the NEGATIVE comments\n",
    "df_negative = data[data.pol==-1]\n",
    "df_negative.head(10)"
   ]
  },
  {
   "cell_type": "markdown",
   "metadata": {},
   "source": [
    "# Displaying Neutral Comments"
   ]
  },
  {
   "cell_type": "code",
   "execution_count": 27,
   "metadata": {},
   "outputs": [
    {
     "data": {
      "text/html": [
       "<div>\n",
       "<style scoped>\n",
       "    .dataframe tbody tr th:only-of-type {\n",
       "        vertical-align: middle;\n",
       "    }\n",
       "\n",
       "    .dataframe tbody tr th {\n",
       "        vertical-align: top;\n",
       "    }\n",
       "\n",
       "    .dataframe thead th {\n",
       "        text-align: right;\n",
       "    }\n",
       "</style>\n",
       "<table border=\"1\" class=\"dataframe\">\n",
       "  <thead>\n",
       "    <tr style=\"text-align: right;\">\n",
       "      <th></th>\n",
       "      <th>video_id</th>\n",
       "      <th>comment_text</th>\n",
       "      <th>likes</th>\n",
       "      <th>replies</th>\n",
       "      <th>pol</th>\n",
       "    </tr>\n",
       "  </thead>\n",
       "  <tbody>\n",
       "    <tr>\n",
       "      <td>320327</td>\n",
       "      <td>5PaDeyRNUyc</td>\n",
       "      <td>jordyn  and kylie should do a collab on a kyli...</td>\n",
       "      <td>0</td>\n",
       "      <td>0</td>\n",
       "      <td>0.0</td>\n",
       "    </tr>\n",
       "    <tr>\n",
       "      <td>207662</td>\n",
       "      <td>sa3G0vBlucg</td>\n",
       "      <td>This is supreme content! thank you for the con...</td>\n",
       "      <td>0</td>\n",
       "      <td>0</td>\n",
       "      <td>0.0</td>\n",
       "    </tr>\n",
       "    <tr>\n",
       "      <td>372658</td>\n",
       "      <td>D3bj3PH7PGg</td>\n",
       "      <td>Why is everyone bashing Trump?</td>\n",
       "      <td>0</td>\n",
       "      <td>0</td>\n",
       "      <td>0.0</td>\n",
       "    </tr>\n",
       "    <tr>\n",
       "      <td>402153</td>\n",
       "      <td>z5Wo-iF6lA8</td>\n",
       "      <td>Tim Cane grunt?</td>\n",
       "      <td>0</td>\n",
       "      <td>0</td>\n",
       "      <td>0.0</td>\n",
       "    </tr>\n",
       "    <tr>\n",
       "      <td>456644</td>\n",
       "      <td>z5Wo-iF6lA8</td>\n",
       "      <td>The end...is that not trademarked?</td>\n",
       "      <td>0</td>\n",
       "      <td>0</td>\n",
       "      <td>0.0</td>\n",
       "    </tr>\n",
       "    <tr>\n",
       "      <td>479333</td>\n",
       "      <td>q1PgzYjpjsE</td>\n",
       "      <td>Have you tried the duo contour sticks from Wet...</td>\n",
       "      <td>0</td>\n",
       "      <td>0</td>\n",
       "      <td>0.0</td>\n",
       "    </tr>\n",
       "    <tr>\n",
       "      <td>603946</td>\n",
       "      <td>LSYc5HvyXKo</td>\n",
       "      <td>Claudia 😍😍😍</td>\n",
       "      <td>0</td>\n",
       "      <td>0</td>\n",
       "      <td>0.0</td>\n",
       "    </tr>\n",
       "    <tr>\n",
       "      <td>561632</td>\n",
       "      <td>uCVuyIQZ-lA</td>\n",
       "      <td>EU TE AMO TANTO</td>\n",
       "      <td>0</td>\n",
       "      <td>0</td>\n",
       "      <td>0.0</td>\n",
       "    </tr>\n",
       "    <tr>\n",
       "      <td>452498</td>\n",
       "      <td>76WkDuiAjeY</td>\n",
       "      <td>Please make cakes based on Indian theme,green ...</td>\n",
       "      <td>0</td>\n",
       "      <td>0</td>\n",
       "      <td>0.0</td>\n",
       "    </tr>\n",
       "    <tr>\n",
       "      <td>228796</td>\n",
       "      <td>D59v74k5flU</td>\n",
       "      <td>He actually uploaded this via smoke signals!</td>\n",
       "      <td>0</td>\n",
       "      <td>0</td>\n",
       "      <td>0.0</td>\n",
       "    </tr>\n",
       "  </tbody>\n",
       "</table>\n",
       "</div>"
      ],
      "text/plain": [
       "           video_id                                       comment_text likes  \\\n",
       "320327  5PaDeyRNUyc  jordyn  and kylie should do a collab on a kyli...     0   \n",
       "207662  sa3G0vBlucg  This is supreme content! thank you for the con...     0   \n",
       "372658  D3bj3PH7PGg                     Why is everyone bashing Trump?     0   \n",
       "402153  z5Wo-iF6lA8                                    Tim Cane grunt?     0   \n",
       "456644  z5Wo-iF6lA8                 The end...is that not trademarked?     0   \n",
       "479333  q1PgzYjpjsE  Have you tried the duo contour sticks from Wet...     0   \n",
       "603946  LSYc5HvyXKo                                        Claudia 😍😍😍     0   \n",
       "561632  uCVuyIQZ-lA                                    EU TE AMO TANTO     0   \n",
       "452498  76WkDuiAjeY  Please make cakes based on Indian theme,green ...     0   \n",
       "228796  D59v74k5flU       He actually uploaded this via smoke signals!     0   \n",
       "\n",
       "       replies  pol  \n",
       "320327       0  0.0  \n",
       "207662       0  0.0  \n",
       "372658       0  0.0  \n",
       "402153       0  0.0  \n",
       "456644       0  0.0  \n",
       "479333       0  0.0  \n",
       "603946       0  0.0  \n",
       "561632       0  0.0  \n",
       "452498       0  0.0  \n",
       "228796       0  0.0  "
      ]
     },
     "execution_count": 27,
     "metadata": {},
     "output_type": "execute_result"
    }
   ],
   "source": [
    "#Displaying the NEUTRAL comments\n",
    "df_neutral = data[data.pol==0]\n",
    "df_neutral.head(10)"
   ]
  },
  {
   "cell_type": "code",
   "execution_count": 28,
   "metadata": {},
   "outputs": [
    {
     "data": {
      "text/plain": [
       " 1.0    884\n",
       " 0.0    804\n",
       "-1.0    312\n",
       "Name: pol, dtype: int64"
      ]
     },
     "execution_count": 28,
     "metadata": {},
     "output_type": "execute_result"
    },
    {
     "data": {
      "image/png": "[encoded data removed]",
      "text/plain": [
       "<Figure size 432x288 with 1 Axes>"
      ]
     },
     "metadata": {
      "needs_background": "light"
     },
     "output_type": "display_data"
    }
   ],
   "source": [
    "data.pol.value_counts().plot.bar(color=\"red\")\n",
    "data.pol.value_counts()"
   ]
  },
  {
   "cell_type": "markdown",
   "metadata": {},
   "source": [
    "# Display Data based on their count"
   ]
  },
  {
   "cell_type": "code",
   "execution_count": 33,
   "metadata": {},
   "outputs": [
    {
     "data": {
      "application/vnd.jupyter.widget-view+json": {
       "model_id": "9aefd0c80cf140478d62aaf82696cbc0",
       "version_major": 2,
       "version_minor": 0
      },
      "text/plain": [
       "interactive(children=(Dropdown(description='column', options=('views', 'comment_total', 'likes', 'dislikes'), …"
      ]
     },
     "metadata": {},
     "output_type": "display_data"
    }
   ],
   "source": [
    "@interact\n",
    "def show_articles_more_than(column=['views','comment_total','likes','dislikes'], x=(1000,500000,1000)):\n",
    "    return df_videos.loc[df_videos[column] > x]"
   ]
  },
  {
   "cell_type": "markdown",
   "metadata": {},
   "source": [
    "# Finding the Correlation Between Views, Comment_total, Likes, Dislikes"
   ]
  },
  {
   "cell_type": "code",
   "execution_count": 34,
   "metadata": {},
   "outputs": [
    {
     "data": {
      "application/vnd.jupyter.widget-view+json": {
       "model_id": "eac91b792eef44a0add98c18363ad312",
       "version_major": 2,
       "version_minor": 0
      },
      "text/plain": [
       "interactive(children=(Dropdown(description='column1', options=('category_id', 'views', 'likes', 'dislikes', 'c…"
      ]
     },
     "metadata": {},
     "output_type": "display_data"
    }
   ],
   "source": [
    "@interact\n",
    "def correlations(column1=list(df_videos.select_dtypes('number').columns),\n",
    "                column2=list(df_videos.select_dtypes('number').columns)):\n",
    "    print(f\"Correlation: {df_videos[column1].corr(df_videos[column2])}\")"
   ]
  },
  {
   "cell_type": "markdown",
   "metadata": {},
   "source": [
    "# Interactive Scatter Plot of the dataset"
   ]
  },
  {
   "cell_type": "code",
   "execution_count": 36,
   "metadata": {},
   "outputs": [
    {
     "data": {
      "text/html": [
       "        <script type=\"text/javascript\">\n",
       "        window.PlotlyConfig = {MathJaxConfig: 'local'};\n",
       "        if (window.MathJax) {MathJax.Hub.Config({SVG: {font: \"STIX-Web\"}});}\n",
       "        if (typeof require !== 'undefined') {\n",
       "        require.undef(\"plotly\");\n",
       "        requirejs.config({\n",
       "            paths: {\n",
       "                'plotly': ['https://cdn.plot.ly/plotly-latest.min']\n",
       "            }\n",
       "        });\n",
       "        require(['plotly'], function(Plotly) {\n",
       "            window._Plotly = Plotly;\n",
       "        });\n",
       "        }\n",
       "        </script>\n",
       "        "
      ]
     },
     "metadata": {},
     "output_type": "display_data"
    },
    {
     "data": {
      "application/vnd.jupyter.widget-view+json": {
       "model_id": "8c7710d05c11423a8dd6ff0d45dc846a",
       "version_major": 2,
       "version_minor": 0
      },
      "text/plain": [
       "interactive(children=(Dropdown(description='x', options=('category_id', 'views', 'likes', 'dislikes', 'comment…"
      ]
     },
     "metadata": {},
     "output_type": "display_data"
    }
   ],
   "source": [
    "import cufflinks as cf\n",
    "cf.go_offline(connected=True)\n",
    "\n",
    "\n",
    "@interact_manual\n",
    "def scatter_plot(x=list(df_videos.select_dtypes('number').columns),\n",
    "                y=list(df_videos.select_dtypes('number').columns)[1:], theme=list(cf.themes.THEMES.keys()),\n",
    "                colorscale=list(cf.colors._scales_names.keys())):\n",
    "    df_videos.iplot(kind='scatter', x=x, y=y, mode='markers', xTitle=x.title(), yTitle=y.title(),\n",
    "                   text='title',\n",
    "                   title=f'{y.title()} vs {x.title()}',\n",
    "                   theme=theme, colorscale=colorscale)\n",
    "    "
   ]
  },
  {
   "cell_type": "code",
   "execution_count": null,
   "metadata": {},
   "outputs": [],
   "source": []
  }
 ],
 "metadata": {
  "kernelspec": {
   "display_name": "Python 3",
   "language": "python",
   "name": "python3"
  },
  "language_info": {
   "codemirror_mode": {
    "name": "ipython",
    "version": 3
   },
   "file_extension": ".py",
   "mimetype": "text/x-python",
   "name": "python",
   "nbconvert_exporter": "python",
   "pygments_lexer": "ipython3",
   "version": "3.7.4"
  }
 },
 "nbformat": 4,
 "nbformat_minor": 2
}
